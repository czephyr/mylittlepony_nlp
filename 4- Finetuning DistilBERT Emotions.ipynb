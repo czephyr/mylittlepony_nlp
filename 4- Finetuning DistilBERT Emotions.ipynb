{
  "cells": [
    {
      "cell_type": "code",
      "execution_count": null,
      "metadata": {
        "id": "Y068aLxCtWoe"
      },
      "outputs": [],
      "source": [
        "from IPython.display import clear_output\n",
        "!pip install gdown==v4.6.3\n",
        "!pip install ktrain==v0.39.0\n",
        "clear_output()"
      ]
    },
    {
      "cell_type": "code",
      "execution_count": null,
      "metadata": {
        "id": "FRQA0tzCsrIP"
      },
      "outputs": [],
      "source": [
        "import os\n",
        "import pandas as pd\n",
        "import numpy as np\n",
        "import ktrain as kt\n",
        "import seaborn as sns\n",
        "import matplotlib.pyplot as plt\n",
        "from sklearn.model_selection import train_test_split\n",
        "from sklearn.metrics import classification_report, confusion_matrix, ConfusionMatrixDisplay\n",
        "import re\n",
        "import nltk"
      ]
    },
    {
      "cell_type": "code",
      "execution_count": null,
      "metadata": {
        "id": "oVfRCNZ7iVRE",
        "colab": {
          "base_uri": "https://localhost:8080/"
        },
        "outputId": "7a4e116d-0ea2-4192-eb93-a209b769cd2b"
      },
      "outputs": [
        {
          "output_type": "stream",
          "name": "stdout",
          "text": [
            "Downloading...\n",
            "From: https://drive.google.com/uc?id=1FJb76svNLLiuwNCuOjeLbjbXw81Fnt5y\n",
            "To: /content/2.1 - cgpt_labelled.csv\n",
            "100% 3.43M/3.43M [00:00<00:00, 21.6MB/s]\n"
          ]
        }
      ],
      "source": [
        "!gdown 1FJb76svNLLiuwNCuOjeLbjbXw81Fnt5y\n",
        "df = pd.read_csv('2.1 - cgpt_labelled.csv', index_col=0)"
      ]
    },
    {
      "cell_type": "code",
      "source": [
        "len(df)"
      ],
      "metadata": {
        "id": "-vHhHq_BW-NO",
        "outputId": "a331bf14-556e-4424-ca22-908a7d8709c6",
        "colab": {
          "base_uri": "https://localhost:8080/"
        }
      },
      "execution_count": null,
      "outputs": [
        {
          "output_type": "execute_result",
          "data": {
            "text/plain": [
              "25419"
            ]
          },
          "metadata": {},
          "execution_count": 4
        }
      ]
    },
    {
      "cell_type": "code",
      "execution_count": null,
      "metadata": {
        "id": "CVTiBSRQv9Ye"
      },
      "outputs": [],
      "source": [
        "# cleaning from unwanted classes\n",
        "emotions = ['anger', 'disgust', 'fear', 'joy', 'neutral', 'sadness', 'surprise']\n",
        "df = df[df[\"emotion_chatgpt\"].isin(emotions)]"
      ]
    },
    {
      "cell_type": "code",
      "source": [
        "len(df)"
      ],
      "metadata": {
        "colab": {
          "base_uri": "https://localhost:8080/"
        },
        "id": "amUvwfLsuUeX",
        "outputId": "1a9d32b1-e0d3-4fe0-fa02-7ecbf49b5b76"
      },
      "execution_count": null,
      "outputs": [
        {
          "output_type": "execute_result",
          "data": {
            "text/plain": [
              "25120"
            ]
          },
          "metadata": {},
          "execution_count": 6
        }
      ]
    },
    {
      "cell_type": "markdown",
      "source": [
        "#### Clean up dialog in preparation for fine tuning"
      ],
      "metadata": {
        "id": "YouWwtKReWYH"
      }
    },
    {
      "cell_type": "code",
      "source": [
        "nltk.download('punkt')"
      ],
      "metadata": {
        "colab": {
          "base_uri": "https://localhost:8080/"
        },
        "id": "m6yF_e_peTmA",
        "outputId": "326650a9-cdae-44f8-8851-1ecebe4aa1cc"
      },
      "execution_count": null,
      "outputs": [
        {
          "output_type": "stream",
          "name": "stderr",
          "text": [
            "[nltk_data] Downloading package punkt to /root/nltk_data...\n",
            "[nltk_data]   Unzipping tokenizers/punkt.zip.\n"
          ]
        },
        {
          "output_type": "execute_result",
          "data": {
            "text/plain": [
              "True"
            ]
          },
          "metadata": {},
          "execution_count": 7
        }
      ]
    },
    {
      "cell_type": "code",
      "source": [
        "# from https://dev.to/neurotech_africa/swahili-text-classification-using-transformers-4850\n",
        "def clean_text(sentence):\n",
        "    '''\n",
        "        function to clean content column, make it ready for transformation and modeling\n",
        "    '''\n",
        "    sentence = sentence.lower()                #convert text to lower-case\n",
        "    sentence = re.sub('â€˜','',sentence)    # remove the text â€˜ which appears to occur flequently\n",
        "    sentence = re.sub('[‘’“”…,]', '', sentence) # remove punctuation\n",
        "    sentence = re.sub('[()]', '', sentence)  #remove parentheses\n",
        "    sentence = re.sub(\"[^a-zA-Z]\",\" \",sentence) #remove numbers and keep text/alphabet only\n",
        "    sentence = nltk.word_tokenize(sentence)      # remove repeated characters (tanzaniaaaaaaaa to tanzania)\n",
        "\n",
        "    return ' '.join(sentence)"
      ],
      "metadata": {
        "id": "TplCXznpducf"
      },
      "execution_count": null,
      "outputs": []
    },
    {
      "cell_type": "code",
      "source": [
        "df['dialog'].head()"
      ],
      "metadata": {
        "colab": {
          "base_uri": "https://localhost:8080/"
        },
        "id": "zKzNNqx3d-p3",
        "outputId": "6742f1cf-94ab-4256-9f71-3d848efd96f0"
      },
      "execution_count": null,
      "outputs": [
        {
          "output_type": "execute_result",
          "data": {
            "text/plain": [
              "index\n",
              "3     ...and harmony has been maintained in Equestri...\n",
              "5     Oh, sorry, girls... I've got a lot of studying...\n",
              "7         I know I've heard of the Elements of Harmony.\n",
              "9                                Spike! Spi-ike! Spike?\n",
              "10    There you are. Quick, find me that old copy of...\n",
              "Name: dialog, dtype: object"
            ]
          },
          "metadata": {},
          "execution_count": 9
        }
      ]
    },
    {
      "cell_type": "code",
      "source": [
        "df['dialog'] = df['dialog'].apply(clean_text)\n",
        "df['dialog'].head()"
      ],
      "metadata": {
        "colab": {
          "base_uri": "https://localhost:8080/"
        },
        "id": "ZM-NPAyId33S",
        "outputId": "0d12b70b-ef85-4605-fc5c-948b2c919fe6"
      },
      "execution_count": null,
      "outputs": [
        {
          "output_type": "execute_result",
          "data": {
            "text/plain": [
              "index\n",
              "3     and harmony has been maintained in equestria f...\n",
              "5     oh sorry girls i ve got a lot of studying to c...\n",
              "7          i know i ve heard of the elements of harmony\n",
              "9                                   spike spi ike spike\n",
              "10    there you are quick find me that old copy of p...\n",
              "Name: dialog, dtype: object"
            ]
          },
          "metadata": {},
          "execution_count": 10
        }
      ]
    },
    {
      "cell_type": "code",
      "source": [
        "df.head()"
      ],
      "metadata": {
        "colab": {
          "base_uri": "https://localhost:8080/",
          "height": 238
        },
        "id": "0HnUPW9NrS2S",
        "outputId": "49734185-3ef3-4986-d508-9c83da03f1cb"
      },
      "execution_count": null,
      "outputs": [
        {
          "output_type": "execute_result",
          "data": {
            "text/plain": [
              "                             title        writer              pony  \\\n",
              "index                                                                \n",
              "3      Friendship is Magic, part 1  Lauren Faust  Twilight Sparkle   \n",
              "5      Friendship is Magic, part 1  Lauren Faust  Twilight Sparkle   \n",
              "7      Friendship is Magic, part 1  Lauren Faust  Twilight Sparkle   \n",
              "9      Friendship is Magic, part 1  Lauren Faust  Twilight Sparkle   \n",
              "10     Friendship is Magic, part 1  Lauren Faust  Twilight Sparkle   \n",
              "\n",
              "                                                  dialog emotion_chatgpt  \n",
              "index                                                                     \n",
              "3      and harmony has been maintained in equestria f...        surprise  \n",
              "5      oh sorry girls i ve got a lot of studying to c...         neutral  \n",
              "7           i know i ve heard of the elements of harmony         neutral  \n",
              "9                                    spike spi ike spike        surprise  \n",
              "10     there you are quick find me that old copy of p...        surprise  "
            ],
            "text/html": [
              "\n",
              "  <div id=\"df-4266fa90-6b64-45f9-845e-7a561015b10e\" class=\"colab-df-container\">\n",
              "    <div>\n",
              "<style scoped>\n",
              "    .dataframe tbody tr th:only-of-type {\n",
              "        vertical-align: middle;\n",
              "    }\n",
              "\n",
              "    .dataframe tbody tr th {\n",
              "        vertical-align: top;\n",
              "    }\n",
              "\n",
              "    .dataframe thead th {\n",
              "        text-align: right;\n",
              "    }\n",
              "</style>\n",
              "<table border=\"1\" class=\"dataframe\">\n",
              "  <thead>\n",
              "    <tr style=\"text-align: right;\">\n",
              "      <th></th>\n",
              "      <th>title</th>\n",
              "      <th>writer</th>\n",
              "      <th>pony</th>\n",
              "      <th>dialog</th>\n",
              "      <th>emotion_chatgpt</th>\n",
              "    </tr>\n",
              "    <tr>\n",
              "      <th>index</th>\n",
              "      <th></th>\n",
              "      <th></th>\n",
              "      <th></th>\n",
              "      <th></th>\n",
              "      <th></th>\n",
              "    </tr>\n",
              "  </thead>\n",
              "  <tbody>\n",
              "    <tr>\n",
              "      <th>3</th>\n",
              "      <td>Friendship is Magic, part 1</td>\n",
              "      <td>Lauren Faust</td>\n",
              "      <td>Twilight Sparkle</td>\n",
              "      <td>and harmony has been maintained in equestria f...</td>\n",
              "      <td>surprise</td>\n",
              "    </tr>\n",
              "    <tr>\n",
              "      <th>5</th>\n",
              "      <td>Friendship is Magic, part 1</td>\n",
              "      <td>Lauren Faust</td>\n",
              "      <td>Twilight Sparkle</td>\n",
              "      <td>oh sorry girls i ve got a lot of studying to c...</td>\n",
              "      <td>neutral</td>\n",
              "    </tr>\n",
              "    <tr>\n",
              "      <th>7</th>\n",
              "      <td>Friendship is Magic, part 1</td>\n",
              "      <td>Lauren Faust</td>\n",
              "      <td>Twilight Sparkle</td>\n",
              "      <td>i know i ve heard of the elements of harmony</td>\n",
              "      <td>neutral</td>\n",
              "    </tr>\n",
              "    <tr>\n",
              "      <th>9</th>\n",
              "      <td>Friendship is Magic, part 1</td>\n",
              "      <td>Lauren Faust</td>\n",
              "      <td>Twilight Sparkle</td>\n",
              "      <td>spike spi ike spike</td>\n",
              "      <td>surprise</td>\n",
              "    </tr>\n",
              "    <tr>\n",
              "      <th>10</th>\n",
              "      <td>Friendship is Magic, part 1</td>\n",
              "      <td>Lauren Faust</td>\n",
              "      <td>Twilight Sparkle</td>\n",
              "      <td>there you are quick find me that old copy of p...</td>\n",
              "      <td>surprise</td>\n",
              "    </tr>\n",
              "  </tbody>\n",
              "</table>\n",
              "</div>\n",
              "    <div class=\"colab-df-buttons\">\n",
              "\n",
              "  <div class=\"colab-df-container\">\n",
              "    <button class=\"colab-df-convert\" onclick=\"convertToInteractive('df-4266fa90-6b64-45f9-845e-7a561015b10e')\"\n",
              "            title=\"Convert this dataframe to an interactive table.\"\n",
              "            style=\"display:none;\">\n",
              "\n",
              "  <svg xmlns=\"http://www.w3.org/2000/svg\" height=\"24px\" viewBox=\"0 -960 960 960\">\n",
              "    <path d=\"M120-120v-720h720v720H120Zm60-500h600v-160H180v160Zm220 220h160v-160H400v160Zm0 220h160v-160H400v160ZM180-400h160v-160H180v160Zm440 0h160v-160H620v160ZM180-180h160v-160H180v160Zm440 0h160v-160H620v160Z\"/>\n",
              "  </svg>\n",
              "    </button>\n",
              "\n",
              "  <style>\n",
              "    .colab-df-container {\n",
              "      display:flex;\n",
              "      gap: 12px;\n",
              "    }\n",
              "\n",
              "    .colab-df-convert {\n",
              "      background-color: #E8F0FE;\n",
              "      border: none;\n",
              "      border-radius: 50%;\n",
              "      cursor: pointer;\n",
              "      display: none;\n",
              "      fill: #1967D2;\n",
              "      height: 32px;\n",
              "      padding: 0 0 0 0;\n",
              "      width: 32px;\n",
              "    }\n",
              "\n",
              "    .colab-df-convert:hover {\n",
              "      background-color: #E2EBFA;\n",
              "      box-shadow: 0px 1px 2px rgba(60, 64, 67, 0.3), 0px 1px 3px 1px rgba(60, 64, 67, 0.15);\n",
              "      fill: #174EA6;\n",
              "    }\n",
              "\n",
              "    .colab-df-buttons div {\n",
              "      margin-bottom: 4px;\n",
              "    }\n",
              "\n",
              "    [theme=dark] .colab-df-convert {\n",
              "      background-color: #3B4455;\n",
              "      fill: #D2E3FC;\n",
              "    }\n",
              "\n",
              "    [theme=dark] .colab-df-convert:hover {\n",
              "      background-color: #434B5C;\n",
              "      box-shadow: 0px 1px 3px 1px rgba(0, 0, 0, 0.15);\n",
              "      filter: drop-shadow(0px 1px 2px rgba(0, 0, 0, 0.3));\n",
              "      fill: #FFFFFF;\n",
              "    }\n",
              "  </style>\n",
              "\n",
              "    <script>\n",
              "      const buttonEl =\n",
              "        document.querySelector('#df-4266fa90-6b64-45f9-845e-7a561015b10e button.colab-df-convert');\n",
              "      buttonEl.style.display =\n",
              "        google.colab.kernel.accessAllowed ? 'block' : 'none';\n",
              "\n",
              "      async function convertToInteractive(key) {\n",
              "        const element = document.querySelector('#df-4266fa90-6b64-45f9-845e-7a561015b10e');\n",
              "        const dataTable =\n",
              "          await google.colab.kernel.invokeFunction('convertToInteractive',\n",
              "                                                    [key], {});\n",
              "        if (!dataTable) return;\n",
              "\n",
              "        const docLinkHtml = 'Like what you see? Visit the ' +\n",
              "          '<a target=\"_blank\" href=https://colab.research.google.com/notebooks/data_table.ipynb>data table notebook</a>'\n",
              "          + ' to learn more about interactive tables.';\n",
              "        element.innerHTML = '';\n",
              "        dataTable['output_type'] = 'display_data';\n",
              "        await google.colab.output.renderOutput(dataTable, element);\n",
              "        const docLink = document.createElement('div');\n",
              "        docLink.innerHTML = docLinkHtml;\n",
              "        element.appendChild(docLink);\n",
              "      }\n",
              "    </script>\n",
              "  </div>\n",
              "\n",
              "\n",
              "<div id=\"df-5cc806d5-f8aa-4f73-83d9-9c6e59b5279d\">\n",
              "  <button class=\"colab-df-quickchart\" onclick=\"quickchart('df-5cc806d5-f8aa-4f73-83d9-9c6e59b5279d')\"\n",
              "            title=\"Suggest charts\"\n",
              "            style=\"display:none;\">\n",
              "\n",
              "<svg xmlns=\"http://www.w3.org/2000/svg\" height=\"24px\"viewBox=\"0 0 24 24\"\n",
              "     width=\"24px\">\n",
              "    <g>\n",
              "        <path d=\"M19 3H5c-1.1 0-2 .9-2 2v14c0 1.1.9 2 2 2h14c1.1 0 2-.9 2-2V5c0-1.1-.9-2-2-2zM9 17H7v-7h2v7zm4 0h-2V7h2v10zm4 0h-2v-4h2v4z\"/>\n",
              "    </g>\n",
              "</svg>\n",
              "  </button>\n",
              "\n",
              "<style>\n",
              "  .colab-df-quickchart {\n",
              "      --bg-color: #E8F0FE;\n",
              "      --fill-color: #1967D2;\n",
              "      --hover-bg-color: #E2EBFA;\n",
              "      --hover-fill-color: #174EA6;\n",
              "      --disabled-fill-color: #AAA;\n",
              "      --disabled-bg-color: #DDD;\n",
              "  }\n",
              "\n",
              "  [theme=dark] .colab-df-quickchart {\n",
              "      --bg-color: #3B4455;\n",
              "      --fill-color: #D2E3FC;\n",
              "      --hover-bg-color: #434B5C;\n",
              "      --hover-fill-color: #FFFFFF;\n",
              "      --disabled-bg-color: #3B4455;\n",
              "      --disabled-fill-color: #666;\n",
              "  }\n",
              "\n",
              "  .colab-df-quickchart {\n",
              "    background-color: var(--bg-color);\n",
              "    border: none;\n",
              "    border-radius: 50%;\n",
              "    cursor: pointer;\n",
              "    display: none;\n",
              "    fill: var(--fill-color);\n",
              "    height: 32px;\n",
              "    padding: 0;\n",
              "    width: 32px;\n",
              "  }\n",
              "\n",
              "  .colab-df-quickchart:hover {\n",
              "    background-color: var(--hover-bg-color);\n",
              "    box-shadow: 0 1px 2px rgba(60, 64, 67, 0.3), 0 1px 3px 1px rgba(60, 64, 67, 0.15);\n",
              "    fill: var(--button-hover-fill-color);\n",
              "  }\n",
              "\n",
              "  .colab-df-quickchart-complete:disabled,\n",
              "  .colab-df-quickchart-complete:disabled:hover {\n",
              "    background-color: var(--disabled-bg-color);\n",
              "    fill: var(--disabled-fill-color);\n",
              "    box-shadow: none;\n",
              "  }\n",
              "\n",
              "  .colab-df-spinner {\n",
              "    border: 2px solid var(--fill-color);\n",
              "    border-color: transparent;\n",
              "    border-bottom-color: var(--fill-color);\n",
              "    animation:\n",
              "      spin 1s steps(1) infinite;\n",
              "  }\n",
              "\n",
              "  @keyframes spin {\n",
              "    0% {\n",
              "      border-color: transparent;\n",
              "      border-bottom-color: var(--fill-color);\n",
              "      border-left-color: var(--fill-color);\n",
              "    }\n",
              "    20% {\n",
              "      border-color: transparent;\n",
              "      border-left-color: var(--fill-color);\n",
              "      border-top-color: var(--fill-color);\n",
              "    }\n",
              "    30% {\n",
              "      border-color: transparent;\n",
              "      border-left-color: var(--fill-color);\n",
              "      border-top-color: var(--fill-color);\n",
              "      border-right-color: var(--fill-color);\n",
              "    }\n",
              "    40% {\n",
              "      border-color: transparent;\n",
              "      border-right-color: var(--fill-color);\n",
              "      border-top-color: var(--fill-color);\n",
              "    }\n",
              "    60% {\n",
              "      border-color: transparent;\n",
              "      border-right-color: var(--fill-color);\n",
              "    }\n",
              "    80% {\n",
              "      border-color: transparent;\n",
              "      border-right-color: var(--fill-color);\n",
              "      border-bottom-color: var(--fill-color);\n",
              "    }\n",
              "    90% {\n",
              "      border-color: transparent;\n",
              "      border-bottom-color: var(--fill-color);\n",
              "    }\n",
              "  }\n",
              "</style>\n",
              "\n",
              "  <script>\n",
              "    async function quickchart(key) {\n",
              "      const quickchartButtonEl =\n",
              "        document.querySelector('#' + key + ' button');\n",
              "      quickchartButtonEl.disabled = true;  // To prevent multiple clicks.\n",
              "      quickchartButtonEl.classList.add('colab-df-spinner');\n",
              "      try {\n",
              "        const charts = await google.colab.kernel.invokeFunction(\n",
              "            'suggestCharts', [key], {});\n",
              "      } catch (error) {\n",
              "        console.error('Error during call to suggestCharts:', error);\n",
              "      }\n",
              "      quickchartButtonEl.classList.remove('colab-df-spinner');\n",
              "      quickchartButtonEl.classList.add('colab-df-quickchart-complete');\n",
              "    }\n",
              "    (() => {\n",
              "      let quickchartButtonEl =\n",
              "        document.querySelector('#df-5cc806d5-f8aa-4f73-83d9-9c6e59b5279d button');\n",
              "      quickchartButtonEl.style.display =\n",
              "        google.colab.kernel.accessAllowed ? 'block' : 'none';\n",
              "    })();\n",
              "  </script>\n",
              "</div>\n",
              "    </div>\n",
              "  </div>\n"
            ]
          },
          "metadata": {},
          "execution_count": 11
        }
      ]
    },
    {
      "cell_type": "code",
      "execution_count": null,
      "metadata": {
        "colab": {
          "base_uri": "https://localhost:8080/"
        },
        "id": "vBQma9okvYaP",
        "outputId": "ddee795a-c0ad-4ad8-b885-2dfb9182d600"
      },
      "outputs": [
        {
          "output_type": "execute_result",
          "data": {
            "text/plain": [
              "joy         39.004777\n",
              "neutral     19.454618\n",
              "surprise    18.252389\n",
              "fear         7.806529\n",
              "anger        7.730892\n",
              "sadness      5.370223\n",
              "disgust      2.380573\n",
              "Name: emotion_chatgpt, dtype: float64"
            ]
          },
          "metadata": {},
          "execution_count": 12
        }
      ],
      "source": [
        "# Confirmed distribution of Emotions across train and test splits are more or less similar\n",
        "100*df[\"emotion_chatgpt\"].value_counts()/len(df)"
      ]
    },
    {
      "cell_type": "code",
      "source": [
        "df[\"emotion_chatgpt\"].value_counts()"
      ],
      "metadata": {
        "colab": {
          "base_uri": "https://localhost:8080/"
        },
        "id": "tXDXzUoQek98",
        "outputId": "2b2c6aad-e2fc-46ac-dffd-8a9bfdeb636d"
      },
      "execution_count": null,
      "outputs": [
        {
          "output_type": "execute_result",
          "data": {
            "text/plain": [
              "joy         9798\n",
              "neutral     4887\n",
              "surprise    4585\n",
              "fear        1961\n",
              "anger       1942\n",
              "sadness     1349\n",
              "disgust      598\n",
              "Name: emotion_chatgpt, dtype: int64"
            ]
          },
          "metadata": {},
          "execution_count": 13
        }
      ]
    },
    {
      "cell_type": "markdown",
      "source": [
        "Confirming only the 6+1 emotions in the dataset"
      ],
      "metadata": {
        "id": "Z0089JFrsNOk"
      }
    },
    {
      "cell_type": "code",
      "execution_count": null,
      "metadata": {
        "id": "xk2x8QFOvtuz"
      },
      "outputs": [],
      "source": [
        "class_names = df[\"emotion_chatgpt\"].unique().tolist()\n",
        "class_names = sorted(class_names) # better to use in confusion matrix later"
      ]
    },
    {
      "cell_type": "code",
      "execution_count": null,
      "metadata": {
        "colab": {
          "base_uri": "https://localhost:8080/"
        },
        "id": "88vKrpLHvvrX",
        "outputId": "605ddfbd-4378-4d27-feb6-3ce0c7912003"
      },
      "outputs": [
        {
          "output_type": "stream",
          "name": "stdout",
          "text": [
            "['anger', 'disgust', 'fear', 'joy', 'neutral', 'sadness', 'surprise']\n"
          ]
        }
      ],
      "source": [
        "print(class_names)"
      ]
    },
    {
      "cell_type": "markdown",
      "metadata": {
        "id": "FnjAUk7rwVdD"
      },
      "source": [
        "Data preprocessing for BERT"
      ]
    },
    {
      "cell_type": "code",
      "execution_count": null,
      "metadata": {
        "id": "x7zWfW_BwUoS"
      },
      "outputs": [],
      "source": [
        "# sent_len = [len(x.split()) for x in X_train]"
      ]
    },
    {
      "cell_type": "code",
      "execution_count": null,
      "metadata": {
        "colab": {
          "base_uri": "https://localhost:8080/",
          "height": 447
        },
        "id": "GHmBd-Ozwbgi",
        "outputId": "3474eba9-78c1-4d75-b559-0f8df0f1e878"
      },
      "outputs": [
        {
          "output_type": "execute_result",
          "data": {
            "text/plain": [
              "[]"
            ]
          },
          "metadata": {},
          "execution_count": 22
        },
        {
          "output_type": "display_data",
          "data": {
            "text/plain": [
              "<Figure size 640x480 with 1 Axes>"
            ],
            "image/png": "[encoded data removed]"
          },
          "metadata": {}
        }
      ],
      "source": [
        "# plt.hist(sent_len, density=True, bins=50)\n",
        "# plt.plot()"
      ]
    },
    {
      "cell_type": "code",
      "execution_count": null,
      "metadata": {
        "colab": {
          "base_uri": "https://localhost:8080/"
        },
        "id": "_cpxSRupwm1m",
        "outputId": "fdaca66b-799c-44d1-9a95-747ae8848ea9"
      },
      "outputs": [
        {
          "output_type": "execute_result",
          "data": {
            "text/plain": [
              "0.9723043676069154"
            ]
          },
          "metadata": {},
          "execution_count": 23
        }
      ],
      "source": [
        "# sent_len.sort()\n",
        "# cutoff_val = 40\n",
        "# cutoff_idx = next(x[0] for x in enumerate(sent_len) if x[1] > cutoff_val)\n",
        "# perc_sent_fewer_words_cutoff_val = cutoff_idx/len(sent_len)\n",
        "# perc_sent_fewer_words_cutoff_val"
      ]
    },
    {
      "cell_type": "markdown",
      "source": [
        "#### Data Preprocessing for Fine Tuning a Distilbert NN"
      ],
      "metadata": {
        "id": "f7XwbJSWTbQl"
      }
    },
    {
      "cell_type": "code",
      "source": [
        "kt.text.print_text_classifiers()"
      ],
      "metadata": {
        "colab": {
          "base_uri": "https://localhost:8080/"
        },
        "id": "I46T6aGsTlcd",
        "outputId": "f28a512b-8346-483f-d4e3-ee4307c893b4"
      },
      "execution_count": null,
      "outputs": [
        {
          "output_type": "stream",
          "name": "stdout",
          "text": [
            "fasttext: a fastText-like model [http://arxiv.org/pdf/1607.01759.pdf]\n",
            "logreg: logistic regression using a trainable Embedding layer\n",
            "nbsvm: NBSVM model [http://www.aclweb.org/anthology/P12-2018]\n",
            "bigru: Bidirectional GRU with pretrained fasttext word vectors [https://fasttext.cc/docs/en/crawl-vectors.html]\n",
            "standard_gru: simple 2-layer GRU with randomly initialized embeddings\n",
            "bert: Bidirectional Encoder Representations from Transformers (BERT) from keras_bert [https://arxiv.org/abs/1810.04805]\n",
            "distilbert: distilled, smaller, and faster BERT from Hugging Face transformers [https://arxiv.org/abs/1910.01108]\n"
          ]
        }
      ]
    },
    {
      "cell_type": "code",
      "execution_count": null,
      "metadata": {
        "colab": {
          "base_uri": "https://localhost:8080/",
          "height": 535
        },
        "id": "6XQAT1FWwyvC",
        "outputId": "1dfaef97-398c-4c4b-f8fb-7f7e67bbd20f"
      },
      "outputs": [
        {
          "output_type": "stream",
          "name": "stdout",
          "text": [
            "['anger', 'disgust', 'fear', 'joy', 'neutral', 'sadness', 'surprise']\n",
            "       anger  disgust  fear  joy  neutral  sadness  surprise\n",
            "index                                                       \n",
            "32085    0.0      0.0   0.0  1.0      0.0      0.0       0.0\n",
            "9386     0.0      0.0   0.0  0.0      0.0      0.0       1.0\n",
            "32030    0.0      0.0   0.0  1.0      0.0      0.0       0.0\n",
            "36543    0.0      0.0   0.0  0.0      1.0      0.0       0.0\n",
            "29902    0.0      0.0   0.0  0.0      0.0      1.0       0.0\n",
            "['anger', 'disgust', 'fear', 'joy', 'neutral', 'sadness', 'surprise']\n",
            "       anger  disgust  fear  joy  neutral  sadness  surprise\n",
            "index                                                       \n",
            "8621     0.0      0.0   0.0  1.0      0.0      0.0       0.0\n",
            "28304    0.0      0.0   0.0  0.0      0.0      0.0       1.0\n",
            "22209    0.0      0.0   0.0  1.0      0.0      0.0       0.0\n",
            "8843     0.0      0.0   0.0  1.0      0.0      0.0       0.0\n",
            "2957     0.0      0.0   0.0  0.0      0.0      0.0       1.0\n",
            "preprocessing train...\n",
            "language: en\n",
            "train sequence lengths:\n",
            "\tmean : 13\n",
            "\t95percentile : 35\n",
            "\t99percentile : 59\n"
          ]
        },
        {
          "output_type": "display_data",
          "data": {
            "text/plain": [
              "<IPython.core.display.HTML object>"
            ],
            "text/html": [
              "\n",
              "<style>\n",
              "    /* Turns off some styling */\n",
              "    progress {\n",
              "        /* gets rid of default border in Firefox and Opera. */\n",
              "        border: none;\n",
              "        /* Needs to be in here for Safari polyfill so background images work as expected. */\n",
              "        background-size: auto;\n",
              "    }\n",
              "    progress:not([value]), progress:not([value])::-webkit-progress-bar {\n",
              "        background: repeating-linear-gradient(45deg, #7e7e7e, #7e7e7e 10px, #5c5c5c 10px, #5c5c5c 20px);\n",
              "    }\n",
              "    .progress-bar-interrupted, .progress-bar-interrupted::-webkit-progress-bar {\n",
              "        background: #F44336;\n",
              "    }\n",
              "</style>\n"
            ]
          },
          "metadata": {}
        },
        {
          "output_type": "display_data",
          "data": {
            "text/plain": [
              "<IPython.core.display.HTML object>"
            ],
            "text/html": []
          },
          "metadata": {}
        },
        {
          "output_type": "stream",
          "name": "stdout",
          "text": [
            "Is Multi-Label? False\n",
            "preprocessing test...\n",
            "language: en\n",
            "test sequence lengths:\n",
            "\tmean : 13\n",
            "\t95percentile : 35\n",
            "\t99percentile : 58\n"
          ]
        },
        {
          "output_type": "display_data",
          "data": {
            "text/plain": [
              "<IPython.core.display.HTML object>"
            ],
            "text/html": [
              "\n",
              "<style>\n",
              "    /* Turns off some styling */\n",
              "    progress {\n",
              "        /* gets rid of default border in Firefox and Opera. */\n",
              "        border: none;\n",
              "        /* Needs to be in here for Safari polyfill so background images work as expected. */\n",
              "        background-size: auto;\n",
              "    }\n",
              "    progress:not([value]), progress:not([value])::-webkit-progress-bar {\n",
              "        background: repeating-linear-gradient(45deg, #7e7e7e, #7e7e7e 10px, #5c5c5c 10px, #5c5c5c 20px);\n",
              "    }\n",
              "    .progress-bar-interrupted, .progress-bar-interrupted::-webkit-progress-bar {\n",
              "        background: #F44336;\n",
              "    }\n",
              "</style>\n"
            ]
          },
          "metadata": {}
        },
        {
          "output_type": "display_data",
          "data": {
            "text/plain": [
              "<IPython.core.display.HTML object>"
            ],
            "text/html": []
          },
          "metadata": {}
        }
      ],
      "source": [
        "trn, val, preproc = kt.text.texts_from_df(df, 'dialog', # name of column containing review text\n",
        "                                          label_columns=['emotion_chatgpt'], maxlen=100, max_features=50000,\n",
        "                                          preprocess_mode='distilbert', val_pct=0.2)"
      ]
    },
    {
      "cell_type": "markdown",
      "source": [
        "#### Build Model"
      ],
      "metadata": {
        "id": "9uJ7dfI5Tirw"
      }
    },
    {
      "cell_type": "code",
      "execution_count": null,
      "metadata": {
        "colab": {
          "base_uri": "https://localhost:8080/"
        },
        "id": "BYNruubew0N2",
        "outputId": "85f65925-5550-4849-877d-cd0450c529b1"
      },
      "outputs": [
        {
          "output_type": "stream",
          "name": "stdout",
          "text": [
            "Is Multi-Label? False\n",
            "maxlen is 100\n",
            "done.\n"
          ]
        }
      ],
      "source": [
        "model = kt.text.text_classifier('distilbert', train_data=trn, preproc=preproc)"
      ]
    },
    {
      "cell_type": "code",
      "execution_count": null,
      "metadata": {
        "id": "FApIWoH0w8_v"
      },
      "outputs": [],
      "source": [
        "learner = kt.get_learner(model, train_data=trn, val_data=val, batch_size=16) # default batch size = 32\n",
        "# https://arxiv.org/abs/1609.04836 : Larger batch size leads to degradation in model ability to generalize"
      ]
    },
    {
      "cell_type": "code",
      "execution_count": null,
      "metadata": {
        "id": "S24XCQwGw6UC"
      },
      "outputs": [],
      "source": [
        "# class_weights = dict(df_train[\"emotion_chatgpt\"].value_counts()/len(df_train))\n",
        "# class_weights = dict((encoding[key], value) for (key, value) in class_weights.items())"
      ]
    },
    {
      "cell_type": "code",
      "execution_count": null,
      "metadata": {
        "id": "SdOOgUr_xD2V",
        "colab": {
          "base_uri": "https://localhost:8080/"
        },
        "outputId": "d4fafbf5-10cc-4509-8dc5-22fb21513ec0"
      },
      "outputs": [
        {
          "output_type": "stream",
          "name": "stdout",
          "text": [
            "simulating training for different learning rates... this may take a few moments...\n",
            "Epoch 1/2\n",
            "1256/1256 [==============================] - 231s 174ms/step - loss: 1.5445 - accuracy: 0.4328\n",
            "Epoch 2/2\n",
            "1256/1256 [==============================] - 219s 171ms/step - loss: 1.8175 - accuracy: 0.3600\n",
            "\n",
            "\n",
            "done.\n",
            "Please invoke the Learner.lr_plot() method to visually inspect the loss plot to help identify the maximal learning rate associated with falling loss.\n"
          ]
        }
      ],
      "source": [
        "learner.lr_find(max_epochs=2)"
      ]
    },
    {
      "cell_type": "code",
      "source": [
        "learner.lr_plot(suggest=True)"
      ],
      "metadata": {
        "id": "TIIejxQhVprN",
        "colab": {
          "base_uri": "https://localhost:8080/",
          "height": 525
        },
        "outputId": "95ece3e8-3e36-463e-9cc8-4e4adb6c0306"
      },
      "execution_count": null,
      "outputs": [
        {
          "output_type": "stream",
          "name": "stdout",
          "text": [
            "Three possible suggestions for LR from plot:\n",
            "\tLongest valley (red): 8.20E-06\n",
            "\tMin numerical gradient (purple): 8.32E-07\n",
            "\tMin loss divided by 10 (omitted from plot): 5.56E-05\n"
          ]
        },
        {
          "output_type": "display_data",
          "data": {
            "text/plain": [
              "<Figure size 640x480 with 1 Axes>"
            ],
            "image/png": "[encoded data removed]"
          },
          "metadata": {}
        }
      ]
    },
    {
      "cell_type": "code",
      "source": [
        "eps = 5\n",
        "lr_opt = 5.56e-5 # for emotions_chatgpt"
      ],
      "metadata": {
        "id": "QVOirrq32gNI"
      },
      "execution_count": null,
      "outputs": []
    },
    {
      "cell_type": "code",
      "source": [
        "history = learner.autofit(lr=lr_opt, epochs=eps, checkpoint_folder=\"checkpoints\")"
      ],
      "metadata": {
        "id": "PhbjfNxf2iDt",
        "colab": {
          "base_uri": "https://localhost:8080/"
        },
        "outputId": "fa2e284c-6185-4bcf-a663-4b8b54caacf6"
      },
      "execution_count": null,
      "outputs": [
        {
          "output_type": "stream",
          "name": "stdout",
          "text": [
            "\n",
            "\n",
            "begin training using triangular learning rate policy with max lr of 5.56e-05...\n",
            "Epoch 1/5\n",
            "1256/1256 [==============================] - 260s 197ms/step - loss: 1.2051 - accuracy: 0.5618 - val_loss: 0.9814 - val_accuracy: 0.6361\n",
            "Epoch 2/5\n",
            "1256/1256 [==============================] - 242s 193ms/step - loss: 0.8094 - accuracy: 0.7149 - val_loss: 0.9714 - val_accuracy: 0.6385\n",
            "Epoch 3/5\n",
            "1256/1256 [==============================] - 243s 193ms/step - loss: 0.5599 - accuracy: 0.8110 - val_loss: 1.0490 - val_accuracy: 0.6447\n",
            "Epoch 4/5\n",
            "1256/1256 [==============================] - 243s 193ms/step - loss: 0.3792 - accuracy: 0.8753 - val_loss: 1.1833 - val_accuracy: 0.6361\n",
            "Epoch 5/5\n",
            "1256/1256 [==============================] - 239s 190ms/step - loss: 0.2666 - accuracy: 0.9110 - val_loss: 1.3144 - val_accuracy: 0.6355\n"
          ]
        }
      ]
    },
    {
      "cell_type": "code",
      "source": [
        "eps_ = range(1, eps+1)\n",
        "\n",
        "plt.figure(figsize=(11,4))\n",
        "\n",
        "plt.subplot(1,2,1)\n",
        "plt.grid(True, \"both\", linestyle=\"--\")\n",
        "plt.plot(eps_, history.history[\"accuracy\"], 'b', label='Training', color=\"blue\")\n",
        "plt.plot(eps_, history.history[\"val_accuracy\"], 'b', label='Validation', color=\"orange\")\n",
        "plt.title('Accuracy')\n",
        "plt.xlabel(\"Epoch\")\n",
        "plt.legend()\n",
        "\n",
        "plt.subplot(1,2,2)\n",
        "plt.grid(True, \"both\", linestyle=\"--\")\n",
        "plt.plot(eps_, history.history[\"loss\"], 'b', label='Training', color=\"blue\")\n",
        "plt.plot(eps_, history.history[\"val_loss\"], 'b', label='Validation', color=\"orange\")\n",
        "plt.title('Loss')\n",
        "plt.xlabel(\"Epoch\")\n",
        "plt.legend()"
      ],
      "metadata": {
        "id": "R5KlQZii2nBI",
        "colab": {
          "base_uri": "https://localhost:8080/",
          "height": 571
        },
        "outputId": "179b5e5f-8e6a-4166-fbe2-55f00005b75e"
      },
      "execution_count": null,
      "outputs": [
        {
          "output_type": "stream",
          "name": "stderr",
          "text": [
            "<ipython-input-42-c6aa912d2c03>:7: UserWarning: color is redundantly defined by the 'color' keyword argument and the fmt string \"b\" (-> color=(0.0, 0.0, 1.0, 1)). The keyword argument will take precedence.\n",
            "  plt.plot(eps_, history.history[\"accuracy\"], 'b', label='Training', color=\"blue\")\n",
            "<ipython-input-42-c6aa912d2c03>:8: UserWarning: color is redundantly defined by the 'color' keyword argument and the fmt string \"b\" (-> color=(0.0, 0.0, 1.0, 1)). The keyword argument will take precedence.\n",
            "  plt.plot(eps_, history.history[\"val_accuracy\"], 'b', label='Validation', color=\"orange\")\n",
            "<ipython-input-42-c6aa912d2c03>:15: UserWarning: color is redundantly defined by the 'color' keyword argument and the fmt string \"b\" (-> color=(0.0, 0.0, 1.0, 1)). The keyword argument will take precedence.\n",
            "  plt.plot(eps_, history.history[\"loss\"], 'b', label='Training', color=\"blue\")\n",
            "<ipython-input-42-c6aa912d2c03>:16: UserWarning: color is redundantly defined by the 'color' keyword argument and the fmt string \"b\" (-> color=(0.0, 0.0, 1.0, 1)). The keyword argument will take precedence.\n",
            "  plt.plot(eps_, history.history[\"val_loss\"], 'b', label='Validation', color=\"orange\")\n"
          ]
        },
        {
          "output_type": "execute_result",
          "data": {
            "text/plain": [
              "<matplotlib.legend.Legend at 0x7e83d02837c0>"
            ]
          },
          "metadata": {},
          "execution_count": 42
        },
        {
          "output_type": "display_data",
          "data": {
            "text/plain": [
              "<Figure size 1100x400 with 2 Axes>"
            ],
            "image/png": "[encoded data removed]"
          },
          "metadata": {}
        }
      ]
    },
    {
      "cell_type": "markdown",
      "source": [
        "#### Make Predictions on Total Data"
      ],
      "metadata": {
        "id": "eb2jRz6ajmdJ"
      }
    },
    {
      "cell_type": "code",
      "source": [
        "classifier = kt.get_predictor(model, preproc)"
      ],
      "metadata": {
        "id": "920E7Koljd-X"
      },
      "execution_count": null,
      "outputs": []
    },
    {
      "cell_type": "code",
      "source": [
        "y_pred = classifier.predict(df['dialog'].to_list())"
      ],
      "metadata": {
        "id": "9UEwwH1upyk3"
      },
      "execution_count": null,
      "outputs": []
    },
    {
      "cell_type": "code",
      "source": [
        "pd.Series(y_pred).value_counts()"
      ],
      "metadata": {
        "colab": {
          "base_uri": "https://localhost:8080/"
        },
        "id": "JlhuEaP_7n5N",
        "outputId": "fc092077-e6e4-49e9-aab8-ed445ed4d92c"
      },
      "execution_count": null,
      "outputs": [
        {
          "output_type": "execute_result",
          "data": {
            "text/plain": [
              "joy         9900\n",
              "neutral     4784\n",
              "surprise    4390\n",
              "fear        2054\n",
              "anger       2030\n",
              "sadness     1397\n",
              "disgust      565\n",
              "dtype: int64"
            ]
          },
          "metadata": {},
          "execution_count": 47
        }
      ]
    },
    {
      "cell_type": "code",
      "source": [
        "cm = confusion_matrix(df['emotion_chatgpt'].to_list(), y_pred)\n",
        "cm_display = ConfusionMatrixDisplay(confusion_matrix = cm, display_labels = class_names)\n",
        "cm_display.plot()"
      ],
      "metadata": {
        "colab": {
          "base_uri": "https://localhost:8080/",
          "height": 467
        },
        "id": "pv1hx1Yaq_08",
        "outputId": "92006ed5-9b58-429c-c221-f70e26aafc79"
      },
      "execution_count": null,
      "outputs": [
        {
          "output_type": "execute_result",
          "data": {
            "text/plain": [
              "<sklearn.metrics._plot.confusion_matrix.ConfusionMatrixDisplay at 0x7e835f488580>"
            ]
          },
          "metadata": {},
          "execution_count": 48
        },
        {
          "output_type": "display_data",
          "data": {
            "text/plain": [
              "<Figure size 640x480 with 2 Axes>"
            ],
            "image/png": "[encoded data removed]"
          },
          "metadata": {}
        }
      ]
    },
    {
      "cell_type": "code",
      "source": [
        "print(classification_report(df['emotion_chatgpt'].to_list(), y_pred))"
      ],
      "metadata": {
        "id": "PRcsueFu6fOw",
        "colab": {
          "base_uri": "https://localhost:8080/"
        },
        "outputId": "1aff88f9-307b-4497-d4bc-8bcf1ba1ee3e"
      },
      "execution_count": null,
      "outputs": [
        {
          "output_type": "stream",
          "name": "stdout",
          "text": [
            "              precision    recall  f1-score   support\n",
            "\n",
            "       anger       0.84      0.88      0.86      1942\n",
            "     disgust       0.87      0.82      0.84       598\n",
            "        fear       0.85      0.89      0.87      1961\n",
            "         joy       0.94      0.95      0.94      9798\n",
            "     neutral       0.87      0.86      0.86      4887\n",
            "     sadness       0.85      0.88      0.87      1349\n",
            "    surprise       0.91      0.87      0.89      4585\n",
            "\n",
            "    accuracy                           0.90     25120\n",
            "   macro avg       0.88      0.88      0.88     25120\n",
            "weighted avg       0.90      0.90      0.90     25120\n",
            "\n"
          ]
        }
      ]
    }
  ],
  "metadata": {
    "accelerator": "GPU",
    "colab": {
      "provenance": []
    },
    "kernelspec": {
      "display_name": "Python 3",
      "name": "python3"
    },
    "language_info": {
      "name": "python"
    }
  },
  "nbformat": 4,
  "nbformat_minor": 0
}